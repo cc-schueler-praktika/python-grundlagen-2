{
 "cells": [
  {
   "cell_type": "markdown",
   "metadata": {},
   "source": [
    "# Module\n",
    "\n",
    "Gewisse Funktionalitäten wurden in Python in sogenannte Module ausgegliedert. Auf diese Art kann die Grundinstallation von Python schlank gehalten werden und Module nach Bedarf nachgeladen weden. Wir schauen und das ganze am Beispiel des [`math`](https://docs.python.org/3.2/library/math.html#module-math) Moduls anschauen. In diesem werden verschiedne mathematische Funktionen wie zum Beispiel `sqrt()` zur Berechnung der Quadratwurzel zur Verfügung gestellt. Führst du die folgende Zeile aus, wird dir Python einen Fehler ausgeben:"
   ]
  },
  {
   "cell_type": "code",
   "execution_count": null,
   "metadata": {},
   "outputs": [],
   "source": [
    "sqrt(49)"
   ]
  },
  {
   "cell_type": "markdown",
   "metadata": {},
   "source": [
    "Du musst zuerst die `sqrt()` Funktion aus dem [`math`](https://docs.python.org/3.2/library/math.html#module-math) Modul laden. Dies geschieht über den Befehl [`import`](https://docs.python.org/3.2/reference/simple_stmts.html#import)."
   ]
  },
  {
   "cell_type": "code",
   "execution_count": null,
   "metadata": {},
   "outputs": [],
   "source": [
    "from math import sqrt\n",
    "sqrt(49)"
   ]
  },
  {
   "cell_type": "markdown",
   "metadata": {},
   "source": [
    "Diese Beispiel berechnet nun erfolgreich die Wurzel aus 49. Falls man alle Befehle von einem Modul importieren möchte, kann man das Modul als ganzes importieren. Dann muss man aber bei jedem Befehl festlegen, dass er aus dem besagten Modul kommt."
   ]
  },
  {
   "cell_type": "code",
   "execution_count": null,
   "metadata": {},
   "outputs": [],
   "source": [
    "import math\n",
    "math.sqrt(49)"
   ]
  },
  {
   "cell_type": "markdown",
   "metadata": {},
   "source": [
    "Teilweise findet man in Beispielen auch die Form `from math import *`, welche alle Befehle aus dem [`math`](https://docs.python.org/3.2/library/math.html#module-math) Modul importiert. Dies gilt aber vor allem in größeren Programmen als schlechter Programmierstil, da man nicht genau weiß, welche Befehle damit alles importiert werden.\n",
    "\n",
    "Oft auch nützlich ist das [`random`](https://docs.python.org/3.2/library/random.html#module-random) Paket, welches verschiedene Funktionen enthält, um Zufallszahlen zu generieren, Listen zu mischen oder zufällige Elemente auszuwählen. Wir können zum Beispiel mit den folgenden Zeilen einen Würfel simulieren, denn `randint(1, 6)` gibt eine Zahl zwischen 1 und 6 aus:"
   ]
  },
  {
   "cell_type": "code",
   "execution_count": null,
   "metadata": {},
   "outputs": [],
   "source": [
    "from random import randint\n",
    "randint(1, 6)"
   ]
  },
  {
   "cell_type": "markdown",
   "metadata": {},
   "source": [
    "> **Siehe auch:** Einen Überblick über alle verfügbaren Pakete in der Python Standard Bibliothek findest du in der Python-Dokumentation unter:\n",
    "https://docs.python.org/3/library/\n",
    "\n",
    "### Aufgaben\n",
    "\n",
    "1. Schreibe ein Programm, welches die Länge der Diagonale eines Rechtecks mit den Seitenlängen `a` und `b`berechnet. Speichere das Ergebnis in der Variable `diagonale`. Gib es aus um selbst das Ergebnis zu sehen."
   ]
  },
  {
   "cell_type": "code",
   "execution_count": null,
   "metadata": {},
   "outputs": [],
   "source": [
    "# IMPORT\n",
    "\n",
    "a = # EINE ZAHL\n",
    "b = # ZWEITE ZAHL\n",
    "diagonale = # BERECHNE DIE DIAGONALE\n",
    "\n",
    "# PRINT"
   ]
  },
  {
   "cell_type": "code",
   "execution_count": null,
   "metadata": {},
   "outputs": [],
   "source": [
    "%run -i tests/lektion6_validiere_diagonale.py"
   ]
  },
  {
   "cell_type": "markdown",
   "metadata": {},
   "source": [
    "2. Drei Würfel werden miteinander geworfen. Schreibe ein Programm, welches drei Würfe simuliert und die Summe der geworfenen Zahlen ausgibt."
   ]
  },
  {
   "cell_type": "code",
   "execution_count": null,
   "metadata": {},
   "outputs": [],
   "source": [
    "# IMPORT\n",
    "\n",
    "wuerfel_1 = # ZUFÄLLIGE ZAHL ZWISCHEN 1 UND 6\n",
    "wuerfel_2 = # ZUFÄLLIGE ZAHL ZWISCHEN 1 UND 6\n",
    "wuerfel_3 = # ZUFÄLLIGE ZAHL ZWISCHEN 1 UND 6\n",
    "summe = # BERECHNE DIE SUMME\n",
    "\n",
    "# PRINT"
   ]
  },
  {
   "cell_type": "code",
   "execution_count": null,
   "metadata": {},
   "outputs": [],
   "source": [
    "%run -i tests/lektion6_validiere_wuerfel.py"
   ]
  },
  {
   "cell_type": "markdown",
   "metadata": {},
   "source": [
    "# Funktionen"
   ]
  },
  {
   "cell_type": "markdown",
   "metadata": {},
   "source": [
    "In den vorherigen Kapiteln haben wir immer wieder auf Funktionen zurückgegriffen, welche uns von Python zur Verfügung gestellt wurden, z.B. `sqrt()` oder `len()`. Wenn du beispielsweise den Befehl `len(\"Haus\")` eingibst, bekommen wir von der Funktion `len()` den Rückgabewert `4` zurück. Dieser Wert ändert sich natürlich, wenn ein anderes Argument als `\"Haus\"` der Funktion übergeben wird.\n",
    "\n",
    "In diesem Kapitel besprechen wir, wie man selber solche Funktionen definieren kann. Es gibt verschiedene Gründe, warum es Sinn macht Funktionen zu definieren.\n",
    "\n",
    "1. Mehrer hintereinander ausgeführte Anweisungen können unter einem Namen zusammengefasst werden. Es kann also als __Strukturierungselement__ angesehen werden, das eine Menge von Anweisungen gruppiert.\n",
    "\n",
    "\n",
    "2. Ein längeres Programm erhält durch Funktionen eine Struktur, welche helfen kann, den Code besser lesen und verstehen zu können.\n",
    "\n",
    "\n",
    "3. Ein Funktionsname kann dabei helfen zu verstehen, was das Unterprogramm berechnet oder ausführt.\n",
    "\n",
    "\n",
    "4. Muss eine Codesequenz mehr als einmal ausgeführt werden, so braucht man nur den Funktionsnamen aufzurufen (Vermeidung von Codeduplizität).\n",
    "\n",
    "\n",
    "Betrachten wir das folgende Beispiel:"
   ]
  },
  {
   "cell_type": "code",
   "execution_count": null,
   "metadata": {},
   "outputs": [],
   "source": [
    "from random import randint\n",
    "\n",
    "eingabe = int(input(\"Gib eine positive ganze Zahl an: \"))\n",
    "\n",
    "liste = []\n",
    "for i in range(eingabe):\n",
    "    liste.append(randint(0,100))\n",
    "\n",
    "result = 0\n",
    "for i in range(eingabe):\n",
    "    result = result + liste[i]\n",
    "    \n",
    "result = result / len(liste)\n",
    "\n",
    "print(\"Das Ergebnis lautet \" + str(result) + \".\")"
   ]
  },
  {
   "cell_type": "markdown",
   "metadata": {},
   "source": [
    "Es benötigt eine Weile um zu verstehen, was das Programm genau macht. Bei genauerem Hinsehen sieht man, dass die paar Codezeilen aus zwei Hauptteilen besteht: Zuerst wird eine zufällig, ganzzahlige Liste erstellt und danach deren arithmetischen Mittelwert berechnet.\n",
    "\n",
    "Lagern wir diese zwei Hauptteile in Funktionen mit geeigneten Namen aus, so wird das Programm verständlicher zu lesen sein, ohne sich um programmtechnische Details kümmern zu müssen:"
   ]
  },
  {
   "cell_type": "code",
   "execution_count": null,
   "metadata": {},
   "outputs": [],
   "source": [
    "from random import randint\n",
    "\n",
    "def zufallsliste_erstellen(eine_zahl):\n",
    "    liste = []\n",
    "    for i in range(eine_zahl):\n",
    "        liste.append(randint(0,100))\n",
    "    return liste\n",
    "\n",
    "def berechne_mittelwert(eine_liste):\n",
    "    result = 0\n",
    "    for i in range(len(eine_liste)):\n",
    "        result = result + eine_liste[i]\n",
    "\n",
    "    result = result / len(eine_liste)\n",
    "\n",
    "    print(\"Das Ergebnis lautet \" + str(result) + \".\")\n",
    "\n",
    "# Hauptprogramm\n",
    "eingabe = int(input(\"Gib eine positive ganze Zahl an: \"))\n",
    "zufallsliste = zufallsliste_erstellen(eingabe)\n",
    "berechne_mittelwert(zufallsliste)"
   ]
  },
  {
   "cell_type": "markdown",
   "metadata": {},
   "source": [
    "Das Programm besteht nun wesentlich aus den Zeilen 19-21. Nur das Lesen dieser 3 Zeilen reicht aus, um zu verstehen, was das gesamte Programm macht. Die Anweisungen für das Erstellen einer Zufallsliste und die Berechnung des arithmetischen Mittelwertes wurden in Funktionen ausgelagert (siehe Zeile 1-17).\n",
    "\n",
    "Zusätzlich stehen die Möglichkeiten der beiden Funktionen zu jedem beliebigen Zeitpunkt später im Programm wieder zur Verfügung. D.h. alleine durch den Funktionsaufruf `zufallsliste_erstellen()` kann jederzeit im Programm wieder eine Zufallsliste erstellt werden, ohne die ganzen Anweisungen nochmals aufschreiben zu müssen.\n",
    "\n",
    "Betrachten wir nun im Detail, wie Funktionen in Python erstellt werden können."
   ]
  },
  {
   "cell_type": "markdown",
   "metadata": {},
   "source": [
    "## Eine Funktion ohne Rückgabewert definieren"
   ]
  },
  {
   "cell_type": "markdown",
   "metadata": {},
   "source": [
    "Mit dem Keyword `def` führen wir eine neue Funktion ein. Nach der Anweisung `def` steht der Name der Funktion, gefolgt von runden Klammern `()`. In der Klammer `()` werden die Argumente, falls welche verlangt, aufgelistet. Zum Schluss kommt noch der obligate Doppelpunkt `:`. Die darauffolgende Zeilen müssen wie üblich eingerückt sein, ansonsten gehören sie nicht mehr zur Funktion.\n",
    "\n",
    "Hier ein Beispiel einer Funktion, welche eine Zahl als Übergabeparameter erwartet. Die Funktion selber multipliziert die Eingabe mit 2 und gibt das Resultat auf der Konsole wieder aus."
   ]
  },
  {
   "cell_type": "code",
   "execution_count": null,
   "metadata": {},
   "outputs": [],
   "source": [
    "def mit_zwei_multiplizieren(eingabe):\n",
    "    eingabe = 2*eingabe\n",
    "    print(\"Verdopple ich diese Zahl, so erhalte ich \",eingabe)\n",
    "\n",
    "\n",
    "zahl = int(input(\"Gib eine ganze Zahl ein: \"))\n",
    "mit_zwei_multiplizieren(zahl)\n",
    "zahl = int(input(\"Gib eine weitere ganze Zahl ein: \"))\n",
    "mit_zwei_multiplizieren(zahl)\n",
    "\n",
    "print(\"Danke für die Eingabe.\")"
   ]
  },
  {
   "cell_type": "markdown",
   "metadata": {},
   "source": [
    "Jedes Mal wenn im Programm die Funktion `mit_zwei_multiplizieren()` aufgerufen wird, wird der Codeblock bei der Definition der Funktion (in unserem Beispiel Zeile 2 und 3) ausgeführt.\n",
    "\n",
    "Natürlich können der Funktion auch mehr als nur ein Argument übergeben werden."
   ]
  },
  {
   "cell_type": "code",
   "execution_count": null,
   "metadata": {},
   "outputs": [],
   "source": [
    "# Eingabe: Längen des Rechtecks\n",
    "# Ausgabe in der Konsole: Fläche des Rechtecks\n",
    "def flaeche_rechteck(a,b):\n",
    "    print(\"Die Fläche des Rechtecks ist \"+str(a*b)+\".\")"
   ]
  },
  {
   "cell_type": "markdown",
   "metadata": {},
   "source": [
    "Eine mögliche Ausgabe könnte dann folgendermassen aussehen:"
   ]
  },
  {
   "cell_type": "code",
   "execution_count": null,
   "metadata": {},
   "outputs": [],
   "source": [
    "flaeche_rechteck(3,7)\n",
    "flaeche_rechteck(2.3,5.1)"
   ]
  },
  {
   "cell_type": "markdown",
   "metadata": {},
   "source": [
    "### Aufgaben"
   ]
  },
  {
   "cell_type": "markdown",
   "metadata": {},
   "source": [
    "1. Erstelle eine Funktion, welche einen String als Argument erwartet und den ersten und letzten Buchstaben des Strings ausgibt."
   ]
  },
  {
   "cell_type": "code",
   "execution_count": null,
   "metadata": {},
   "outputs": [],
   "source": [
    "# PLATZ FÜR DEINE LÖSUNG"
   ]
  },
  {
   "cell_type": "markdown",
   "metadata": {},
   "source": [
    "2. Schreibe eine Funktion `summe()`, welche für die Eingabe einer Zahl `n` folgendes Resultat ausgibt:\n",
    "\n",
    "`summe:=1+2+⋯+n`\n",
    "\n",
    "Es sollte dann z.B. folgendermassen aussehen:\n",
    "\n",
    "```\n",
    "summe(4)\n",
    "10\n",
    "summe(100)\n",
    "5050\n",
    "```"
   ]
  },
  {
   "cell_type": "code",
   "execution_count": null,
   "metadata": {},
   "outputs": [],
   "source": [
    "# PLATZ FÜR DEINE LÖSUNG"
   ]
  },
  {
   "cell_type": "markdown",
   "metadata": {},
   "source": [
    "## Eine Funktion mit Rückgabewert definieren"
   ]
  },
  {
   "cell_type": "markdown",
   "metadata": {},
   "source": [
    "Unsere selbst geschriebenen Funktionen von oben haben bisher die Resultate lediglich auf der Konsole ausgegeben. Jedoch kann es sein, dass die Ergebnisse für den weiteren Programmverlauf gebraucht und weiter verarbeitet werden müssen. In solchen Fällen macht es Sinn Funktionen zu definieren, welche mir ein Ergebnis zurückgeben, wie z.B."
   ]
  },
  {
   "cell_type": "code",
   "execution_count": null,
   "metadata": {},
   "outputs": [],
   "source": [
    "len(\"Haus\")"
   ]
  },
  {
   "cell_type": "markdown",
   "metadata": {},
   "source": [
    "Nehmen wir das gleiche Beispiel von oben:"
   ]
  },
  {
   "cell_type": "code",
   "execution_count": null,
   "metadata": {},
   "outputs": [],
   "source": [
    "# Eingabe: Längen des Rechtecks\n",
    "# Ausgabe in der Konsole: Fläche des Rechtecks\n",
    "def flaeche_rechteck(a,b):\n",
    "    print(\"Die Fläche des Rechtecks ist \"+str(a*b)+\".\")"
   ]
  },
  {
   "cell_type": "code",
   "execution_count": null,
   "metadata": {},
   "outputs": [],
   "source": [
    "flaeche_rechteck(5,6)"
   ]
  },
  {
   "cell_type": "markdown",
   "metadata": {},
   "source": [
    "Diese Funktion gibt auf der Konsole die Fläche des Rechtecks mit Längen `a` und `b` aus. Möchte man das Ergebnis nicht ausgeben, sondern z.B. für eine Weiterverarbeitung zurückgeben, so kann dies mit der `return` Anweisung gemacht werden:"
   ]
  },
  {
   "cell_type": "code",
   "execution_count": null,
   "metadata": {},
   "outputs": [],
   "source": [
    "def flaeche_rechteck(a,b):\n",
    "    return a*b"
   ]
  },
  {
   "cell_type": "markdown",
   "metadata": {},
   "source": [
    "Nun kann das Ergebnis der Funktion flaeche_rechteck() in einer Variable gespeichert und weiter verwendet werden."
   ]
  },
  {
   "cell_type": "code",
   "execution_count": null,
   "metadata": {},
   "outputs": [],
   "source": [
    "a = flaeche_rechteck(2,5)\n",
    "a"
   ]
  },
  {
   "cell_type": "markdown",
   "metadata": {},
   "source": [
    "#### Bemerkung\n",
    "<blockquote>\n",
    "Eine Funktion mit einem return Statement kommt dem Konzept einer Funktion im Sinne der Mathematik sehr nahe:\n",
    "\n",
    "`y=f(x)`\n",
    "\n",
    "wobei\n",
    "\n",
    "`f:Funktionsname`\n",
    "\n",
    "`x:Argument`\n",
    "\n",
    "`y:Rückgabewert`\n",
    "\n",
    "Mehr zum Thema Funktionen findest du in der Dokumentation unter\n",
    "\n",
    "https://docs.python.org/3.2/tutorial/controlflow.html#defining-functions\n",
    "</blockquote>"
   ]
  },
  {
   "cell_type": "markdown",
   "metadata": {},
   "source": [
    "### Aufgaben"
   ]
  },
  {
   "cell_type": "markdown",
   "metadata": {},
   "source": [
    "1. Schreibe eine Funktion `quersumme(zahl)`, welche die Quersumme von `zahl` berechnet und zurückgibt."
   ]
  },
  {
   "cell_type": "code",
   "execution_count": null,
   "metadata": {},
   "outputs": [],
   "source": [
    "# PLATZ FÜR DEINE LÖSUNG"
   ]
  },
  {
   "cell_type": "markdown",
   "metadata": {},
   "source": [
    "2. Schaue dir die folgende Funktion an und überlege, was das Ergebnis sein könnte."
   ]
  },
  {
   "cell_type": "code",
   "execution_count": null,
   "metadata": {},
   "outputs": [],
   "source": [
    "def meine_funktion(a,b):\n",
    "    while b != 0:\n",
    "        t = a%b\n",
    "        a = b\n",
    "        b = t\n",
    "    return a"
   ]
  },
  {
   "cell_type": "markdown",
   "metadata": {},
   "source": [
    "Hast du eine Vermutung? Teste sie an einigen Beispielen:"
   ]
  },
  {
   "cell_type": "code",
   "execution_count": null,
   "metadata": {},
   "outputs": [],
   "source": [
    "meine_funktion(12,16)"
   ]
  },
  {
   "cell_type": "code",
   "execution_count": null,
   "metadata": {},
   "outputs": [],
   "source": [
    "meine_funktion(1,16)"
   ]
  },
  {
   "cell_type": "code",
   "execution_count": null,
   "metadata": {},
   "outputs": [],
   "source": [
    "meine_funktion(8,16)"
   ]
  },
  {
   "cell_type": "code",
   "execution_count": null,
   "metadata": {},
   "outputs": [],
   "source": [
    "meine_funktion(8,21)"
   ]
  },
  {
   "cell_type": "code",
   "execution_count": null,
   "metadata": {},
   "outputs": [],
   "source": [
    "meine_funktion(18,21)"
   ]
  },
  {
   "cell_type": "code",
   "execution_count": null,
   "metadata": {},
   "outputs": [],
   "source": [
    "meine_funktion(27,36)"
   ]
  },
  {
   "cell_type": "markdown",
   "metadata": {},
   "source": [
    "3. Welche der folgenden Definitionen sind zulässig? Welche nicht und wieso? Überlege zuerst und überprüfe es danach."
   ]
  },
  {
   "cell_type": "code",
   "execution_count": null,
   "metadata": {},
   "outputs": [],
   "source": [
    "def myprint():\n",
    "    print(\"Hallo Welt\")\n",
    "    \n",
    "myprint()    "
   ]
  },
  {
   "cell_type": "code",
   "execution_count": null,
   "metadata": {},
   "outputs": [],
   "source": [
    "def myprint1()\n",
    "    myprint(\"Hallo Welt\")\n",
    "    \n",
    " myprint1()   "
   ]
  },
  {
   "cell_type": "code",
   "execution_count": null,
   "metadata": {},
   "outputs": [],
   "source": [
    "def myprint1():\n",
    "    print(\"Hallo Welt\")\n",
    "\n",
    "myprint1()    "
   ]
  },
  {
   "cell_type": "code",
   "execution_count": null,
   "metadata": {},
   "outputs": [],
   "source": [
    "def myprint1():\n",
    "print(\"Hallo Welt\")\n",
    "\n",
    "myprint()"
   ]
  },
  {
   "cell_type": "markdown",
   "metadata": {},
   "source": [
    "## Mehrere Rückgabewerte"
   ]
  },
  {
   "cell_type": "markdown",
   "metadata": {},
   "source": [
    "Bis jetzt haben unsere Funktionen immer nur einen Wert zurückgeben. Mit Python ist es überhaupt kein Problem, auch Funktionen zu definieren, welche mehr als einen Wert zurückgeben. Hier ein Beispiel dazu:"
   ]
  },
  {
   "cell_type": "code",
   "execution_count": null,
   "metadata": {},
   "outputs": [],
   "source": [
    "def add_multiply(zahl1, zahl2):\n",
    "    return zahl1+zahl2, zahl1*zahl2\n",
    "\n",
    "a = add_multiply(4,10)\n",
    "print(a, a[0], a[1])\n",
    "\n",
    "a, b = add_multiply(4,10)\n",
    "print(a, b)"
   ]
  },
  {
   "cell_type": "markdown",
   "metadata": {},
   "source": [
    "Dieses Programm gibt die Summe und das Produkt zweier Zahlen (hier `zahl1` und `zahl2`) zurück."
   ]
  },
  {
   "cell_type": "markdown",
   "metadata": {},
   "source": [
    "Wir sehen bei der Zuweisung in Zeile 4, dass die mehreren Rückgabewerte als Tupel der einen Variable a übergeben werden. Man kann aber auch jeden Rückgabewert einer einzigen Variablen zuweisen, so wie es in Zeile 7 gemacht wurde."
   ]
  }
 ],
 "metadata": {
  "kernelspec": {
   "display_name": "Python 3",
   "language": "python",
   "name": "python3"
  },
  "language_info": {
   "codemirror_mode": {
    "name": "ipython",
    "version": 3
   },
   "file_extension": ".py",
   "mimetype": "text/x-python",
   "name": "python",
   "nbconvert_exporter": "python",
   "pygments_lexer": "ipython3",
   "version": "3.7.3"
  }
 },
 "nbformat": 4,
 "nbformat_minor": 2
}
